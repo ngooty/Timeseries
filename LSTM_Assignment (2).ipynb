{
 "cells": [
  {
   "cell_type": "code",
   "execution_count": 1,
   "metadata": {
    "colab": {
     "base_uri": "https://localhost:8080/",
     "height": 34
    },
    "colab_type": "code",
    "id": "WDGJpaZAFooo",
    "outputId": "365dc760-0f4c-4ceb-8461-e86738e1ef3d"
   },
   "outputs": [
    {
     "name": "stderr",
     "output_type": "stream",
     "text": [
      "Using TensorFlow backend.\n"
     ]
    }
   ],
   "source": [
    "import keras\n",
    "from keras.models import Sequential\n",
    "from keras.layers import Dense, LSTM\n",
    "from sklearn.model_selection import train_test_split\n",
    "import numpy as np\n",
    "import matplotlib.pyplot as plt\n",
    "import pandas as pd\n",
    "\n",
    "%matplotlib inline"
   ]
  },
  {
   "cell_type": "code",
   "execution_count": null,
   "metadata": {
    "colab": {},
    "colab_type": "code",
    "id": "ab8SMy2cQfKZ"
   },
   "outputs": [],
   "source": [
    "df=pd.read_csv('airline-passengers.csv')\n"
   ]
  },
  {
   "cell_type": "code",
   "execution_count": null,
   "metadata": {
    "colab": {},
    "colab_type": "code",
    "id": "0dZ9f98tRMih"
   },
   "outputs": [],
   "source": [
    "df['Month'], df['Passengers'] = df['\"Month\",\"Passengers\"'].str.split(',', 1).str\n",
    "df=df.drop('\"Month\",\"Passengers\"',axis=1)"
   ]
  },
  {
   "cell_type": "code",
   "execution_count": 90,
   "metadata": {
    "colab": {
     "base_uri": "https://localhost:8080/",
     "height": 153
    },
    "colab_type": "code",
    "id": "kIcpS6HvhCLW",
    "outputId": "54d175ec-fd82-43ee-d4db-1111a4cbbaf1"
   },
   "outputs": [
    {
     "name": "stdout",
     "output_type": "stream",
     "text": [
      "<class 'pandas.core.frame.DataFrame'>\n",
      "RangeIndex: 144 entries, 0 to 143\n",
      "Data columns (total 3 columns):\n",
      "Month             144 non-null object\n",
      "Passengers        144 non-null float64\n",
      "New Passengers    144 non-null float64\n",
      "dtypes: float64(2), object(1)\n",
      "memory usage: 3.5+ KB\n"
     ]
    }
   ],
   "source": [
    "df['Passengers']=df['Passengers'].astype(float)\n",
    "df.info()\n",
    "actual_values=df['Passengers']"
   ]
  },
  {
   "cell_type": "code",
   "execution_count": 24,
   "metadata": {
    "colab": {
     "base_uri": "https://localhost:8080/",
     "height": 34
    },
    "colab_type": "code",
    "id": "O7kv30NyQ5J4",
    "outputId": "5d0a9981-df94-4dcf-8287-23f66d93d675"
   },
   "outputs": [
    {
     "name": "stdout",
     "output_type": "stream",
     "text": [
      "144\n"
     ]
    }
   ],
   "source": [
    "new_pass=[]\n",
    "print(len(df.Passengers))\n",
    "for i in range(0,len(df.Passengers)):\n",
    "  if i > len(df.Passengers)-5:\n",
    "    new_pass.append(df.Passengers[i])\n",
    "  else:\n",
    "    new_pass.append(df.Passengers[i+4])\n",
    "    #df.loc['New Passengers']=\n",
    "\n",
    "df['New Passengers']=new_pass\n",
    "df['New Passengers']=df['New Passengers'].astype(float)\n"
   ]
  },
  {
   "cell_type": "code",
   "execution_count": null,
   "metadata": {
    "colab": {},
    "colab_type": "code",
    "id": "a7mr-YxWZcvU"
   },
   "outputs": [],
   "source": [
    "x=df.drop('Month',axis=1)\n",
    "y=df[\"New Passengers\"].values"
   ]
  },
  {
   "cell_type": "code",
   "execution_count": 59,
   "metadata": {
    "colab": {
     "base_uri": "https://localhost:8080/",
     "height": 34
    },
    "colab_type": "code",
    "id": "dwyi9RG2Zq21",
    "outputId": "c81e5e53-f8ba-43c2-b349-7807b8f7ccec"
   },
   "outputs": [
    {
     "data": {
      "text/plain": [
       "((144, 2), (144,))"
      ]
     },
     "execution_count": 59,
     "metadata": {
      "tags": []
     },
     "output_type": "execute_result"
    }
   ],
   "source": [
    "x.shape,y.shape"
   ]
  },
  {
   "cell_type": "code",
   "execution_count": 65,
   "metadata": {
    "colab": {
     "base_uri": "https://localhost:8080/",
     "height": 34
    },
    "colab_type": "code",
    "id": "fmYb6kFSaj9v",
    "outputId": "3e0cad9d-03f5-4a13-8060-7bc2cab7f8c3"
   },
   "outputs": [
    {
     "data": {
      "text/plain": [
       "144"
      ]
     },
     "execution_count": 65,
     "metadata": {
      "tags": []
     },
     "output_type": "execute_result"
    }
   ],
   "source": [
    "from sklearn.preprocessing import MinMaxScaler\n",
    "sc = MinMaxScaler(feature_range = (0, 1))\n",
    "training_set_scaled = sc.fit_transform(x)\n",
    "y = y.reshape(-1,1)\n",
    "y.shape\n",
    "y = sc.fit_transform(y)\n",
    "len(y)"
   ]
  },
  {
   "cell_type": "code",
   "execution_count": 108,
   "metadata": {
    "colab": {
     "base_uri": "https://localhost:8080/",
     "height": 34
    },
    "colab_type": "code",
    "id": "W6KeDqoZcXKV",
    "outputId": "a560e5f6-a552-4a49-ef4e-d086130c93ee"
   },
   "outputs": [
    {
     "data": {
      "text/plain": [
       "((139, 5, 1), (139,))"
      ]
     },
     "execution_count": 108,
     "metadata": {
      "tags": []
     },
     "output_type": "execute_result"
    }
   ],
   "source": [
    "X_train = []\n",
    "y_train = []\n",
    "for i in range(5, 144):\n",
    "    X_train.append(training_set_scaled[i-5:i, 0])\n",
    "    y_train.append(training_set_scaled[i, 0])\n",
    "X_train, y_train = np.array(X_train), np.array(y_train)\n",
    "\n",
    "X_train = np.reshape(X_train, (X_train.shape[0], X_train.shape[1], 1))\n",
    "X_train.shape,y_train.shape"
   ]
  },
  {
   "cell_type": "code",
   "execution_count": 110,
   "metadata": {
    "colab": {
     "base_uri": "https://localhost:8080/",
     "height": 34
    },
    "colab_type": "code",
    "id": "C6hmLYpNeu2R",
    "outputId": "52db8ed1-5fef-440f-ed5e-1d56239ed1a9"
   },
   "outputs": [
    {
     "data": {
      "text/plain": [
       "(91, 5, 1)"
      ]
     },
     "execution_count": 110,
     "metadata": {
      "tags": []
     },
     "output_type": "execute_result"
    }
   ],
   "source": [
    "\n",
    "X_test = []\n",
    "\n",
    "for i in range(5, 96):\n",
    "    X_test.append(y[i-5:i, 0])\n",
    "X_test = np.array(X_test)\n",
    "\n",
    "X_test = np.reshape(X_test, (X_test.shape[0], X_test.shape[1], 1))\n",
    "X_test.shape"
   ]
  },
  {
   "cell_type": "code",
   "execution_count": 31,
   "metadata": {
    "colab": {
     "base_uri": "https://localhost:8080/",
     "height": 34
    },
    "colab_type": "code",
    "id": "h-LCnQKvAipl",
    "outputId": "d72430b0-e285-499b-d090-73517865ae55"
   },
   "outputs": [
    {
     "data": {
      "text/plain": [
       "((115, 2), (115,), (29, 2), (29,))"
      ]
     },
     "execution_count": 31,
     "metadata": {
      "tags": []
     },
     "output_type": "execute_result"
    }
   ],
   "source": [
    "xtrain,ytrain,xtest,ytest=train_test_split(x,y, test_size=0.2, random_state=3)\n",
    "xtrain.shape,xtest.shape,ytrain.shape,ytest.shape"
   ]
  },
  {
   "cell_type": "code",
   "execution_count": null,
   "metadata": {
    "colab": {},
    "colab_type": "code",
    "id": "p2pZ8bSJS9mt"
   },
   "outputs": [],
   "source": [
    "model=Sequential()"
   ]
  },
  {
   "cell_type": "code",
   "execution_count": null,
   "metadata": {
    "colab": {},
    "colab_type": "code",
    "id": "rYnicTXNTAab"
   },
   "outputs": [],
   "source": [
    "model.add(LSTM((1),input_shape=(X_train.shape[1], 1), return_sequences=False))\n"
   ]
  },
  {
   "cell_type": "code",
   "execution_count": null,
   "metadata": {
    "colab": {},
    "colab_type": "code",
    "id": "c_7Y7YT7Ta78"
   },
   "outputs": [],
   "source": [
    "model.compile(loss='mean_absolute_error',optimizer='adam',metrics=['accuracy'])"
   ]
  },
  {
   "cell_type": "code",
   "execution_count": 97,
   "metadata": {
    "colab": {
     "base_uri": "https://localhost:8080/",
     "height": 187
    },
    "colab_type": "code",
    "id": "xMC1FUgeTnx5",
    "outputId": "d6f76450-b64e-417e-cc80-fc17a8f9d404"
   },
   "outputs": [
    {
     "name": "stdout",
     "output_type": "stream",
     "text": [
      "Model: \"sequential_4\"\n",
      "_________________________________________________________________\n",
      "Layer (type)                 Output Shape              Param #   \n",
      "=================================================================\n",
      "lstm_8 (LSTM)                (None, 1)                 12        \n",
      "=================================================================\n",
      "Total params: 12\n",
      "Trainable params: 12\n",
      "Non-trainable params: 0\n",
      "_________________________________________________________________\n"
     ]
    }
   ],
   "source": [
    "model.summary()"
   ]
  },
  {
   "cell_type": "code",
   "execution_count": 98,
   "metadata": {
    "colab": {
     "base_uri": "https://localhost:8080/",
     "height": 1000
    },
    "colab_type": "code",
    "id": "6g6Uv7FETqsa",
    "outputId": "7b9f29b8-6012-4a2c-8126-c5e83fe0459e"
   },
   "outputs": [
    {
     "name": "stdout",
     "output_type": "stream",
     "text": [
      "Epoch 1/100\n",
      "139/139 [==============================] - 1s 5ms/step - loss: 0.4602 - acc: 0.0072\n",
      "Epoch 2/100\n",
      "139/139 [==============================] - 0s 186us/step - loss: 0.4549 - acc: 0.0072\n",
      "Epoch 3/100\n",
      "139/139 [==============================] - 0s 174us/step - loss: 0.4494 - acc: 0.0072\n",
      "Epoch 4/100\n",
      "139/139 [==============================] - 0s 175us/step - loss: 0.4439 - acc: 0.0072\n",
      "Epoch 5/100\n",
      "139/139 [==============================] - 0s 226us/step - loss: 0.4383 - acc: 0.0072\n",
      "Epoch 6/100\n",
      "139/139 [==============================] - 0s 188us/step - loss: 0.4331 - acc: 0.0072\n",
      "Epoch 7/100\n",
      "139/139 [==============================] - 0s 199us/step - loss: 0.4278 - acc: 0.0072\n",
      "Epoch 8/100\n",
      "139/139 [==============================] - 0s 198us/step - loss: 0.4227 - acc: 0.0072\n",
      "Epoch 9/100\n",
      "139/139 [==============================] - 0s 295us/step - loss: 0.4176 - acc: 0.0072\n",
      "Epoch 10/100\n",
      "139/139 [==============================] - 0s 321us/step - loss: 0.4128 - acc: 0.0072\n",
      "Epoch 11/100\n",
      "139/139 [==============================] - 0s 231us/step - loss: 0.4080 - acc: 0.0072\n",
      "Epoch 12/100\n",
      "139/139 [==============================] - 0s 212us/step - loss: 0.4032 - acc: 0.0072\n",
      "Epoch 13/100\n",
      "139/139 [==============================] - 0s 192us/step - loss: 0.3986 - acc: 0.0072\n",
      "Epoch 14/100\n",
      "139/139 [==============================] - 0s 210us/step - loss: 0.3942 - acc: 0.0072\n",
      "Epoch 15/100\n",
      "139/139 [==============================] - 0s 211us/step - loss: 0.3897 - acc: 0.0072\n",
      "Epoch 16/100\n",
      "139/139 [==============================] - 0s 239us/step - loss: 0.3855 - acc: 0.0072\n",
      "Epoch 17/100\n",
      "139/139 [==============================] - 0s 242us/step - loss: 0.3813 - acc: 0.0072\n",
      "Epoch 18/100\n",
      "139/139 [==============================] - 0s 224us/step - loss: 0.3772 - acc: 0.0072\n",
      "Epoch 19/100\n",
      "139/139 [==============================] - 0s 219us/step - loss: 0.3732 - acc: 0.0072\n",
      "Epoch 20/100\n",
      "139/139 [==============================] - 0s 231us/step - loss: 0.3692 - acc: 0.0072\n",
      "Epoch 21/100\n",
      "139/139 [==============================] - 0s 223us/step - loss: 0.3654 - acc: 0.0072\n",
      "Epoch 22/100\n",
      "139/139 [==============================] - 0s 237us/step - loss: 0.3615 - acc: 0.0072\n",
      "Epoch 23/100\n",
      "139/139 [==============================] - 0s 209us/step - loss: 0.3577 - acc: 0.0072\n",
      "Epoch 24/100\n",
      "139/139 [==============================] - 0s 218us/step - loss: 0.3538 - acc: 0.0072\n",
      "Epoch 25/100\n",
      "139/139 [==============================] - 0s 262us/step - loss: 0.3500 - acc: 0.0072\n",
      "Epoch 26/100\n",
      "139/139 [==============================] - 0s 240us/step - loss: 0.3463 - acc: 0.0072\n",
      "Epoch 27/100\n",
      "139/139 [==============================] - 0s 238us/step - loss: 0.3426 - acc: 0.0072\n",
      "Epoch 28/100\n",
      "139/139 [==============================] - 0s 242us/step - loss: 0.3390 - acc: 0.0072\n",
      "Epoch 29/100\n",
      "139/139 [==============================] - 0s 212us/step - loss: 0.3355 - acc: 0.0072\n",
      "Epoch 30/100\n",
      "139/139 [==============================] - 0s 215us/step - loss: 0.3320 - acc: 0.0072\n",
      "Epoch 31/100\n",
      "139/139 [==============================] - 0s 191us/step - loss: 0.3285 - acc: 0.0072\n",
      "Epoch 32/100\n",
      "139/139 [==============================] - 0s 192us/step - loss: 0.3251 - acc: 0.0072\n",
      "Epoch 33/100\n",
      "139/139 [==============================] - 0s 195us/step - loss: 0.3217 - acc: 0.0072\n",
      "Epoch 34/100\n",
      "139/139 [==============================] - 0s 195us/step - loss: 0.3182 - acc: 0.0072\n",
      "Epoch 35/100\n",
      "139/139 [==============================] - 0s 206us/step - loss: 0.3146 - acc: 0.0072\n",
      "Epoch 36/100\n",
      "139/139 [==============================] - 0s 206us/step - loss: 0.3112 - acc: 0.0072\n",
      "Epoch 37/100\n",
      "139/139 [==============================] - 0s 193us/step - loss: 0.3077 - acc: 0.0072\n",
      "Epoch 38/100\n",
      "139/139 [==============================] - 0s 192us/step - loss: 0.3043 - acc: 0.0072\n",
      "Epoch 39/100\n",
      "139/139 [==============================] - 0s 246us/step - loss: 0.3010 - acc: 0.0072\n",
      "Epoch 40/100\n",
      "139/139 [==============================] - 0s 182us/step - loss: 0.2975 - acc: 0.0072\n",
      "Epoch 41/100\n",
      "139/139 [==============================] - 0s 192us/step - loss: 0.2940 - acc: 0.0072\n",
      "Epoch 42/100\n",
      "139/139 [==============================] - 0s 194us/step - loss: 0.2904 - acc: 0.0072\n",
      "Epoch 43/100\n",
      "139/139 [==============================] - 0s 207us/step - loss: 0.2868 - acc: 0.0072\n",
      "Epoch 44/100\n",
      "139/139 [==============================] - 0s 212us/step - loss: 0.2831 - acc: 0.0072\n",
      "Epoch 45/100\n",
      "139/139 [==============================] - 0s 192us/step - loss: 0.2793 - acc: 0.0072\n",
      "Epoch 46/100\n",
      "139/139 [==============================] - 0s 186us/step - loss: 0.2756 - acc: 0.0072\n",
      "Epoch 47/100\n",
      "139/139 [==============================] - 0s 206us/step - loss: 0.2715 - acc: 0.0072\n",
      "Epoch 48/100\n",
      "139/139 [==============================] - 0s 191us/step - loss: 0.2677 - acc: 0.0072\n",
      "Epoch 49/100\n",
      "139/139 [==============================] - 0s 174us/step - loss: 0.2636 - acc: 0.0072\n",
      "Epoch 50/100\n",
      "139/139 [==============================] - 0s 179us/step - loss: 0.2597 - acc: 0.0072\n",
      "Epoch 51/100\n",
      "139/139 [==============================] - 0s 197us/step - loss: 0.2556 - acc: 0.0072\n",
      "Epoch 52/100\n",
      "139/139 [==============================] - 0s 188us/step - loss: 0.2515 - acc: 0.0072\n",
      "Epoch 53/100\n",
      "139/139 [==============================] - 0s 220us/step - loss: 0.2475 - acc: 0.0072\n",
      "Epoch 54/100\n",
      "139/139 [==============================] - 0s 200us/step - loss: 0.2432 - acc: 0.0072\n",
      "Epoch 55/100\n",
      "139/139 [==============================] - 0s 188us/step - loss: 0.2392 - acc: 0.0072\n",
      "Epoch 56/100\n",
      "139/139 [==============================] - 0s 185us/step - loss: 0.2350 - acc: 0.0072\n",
      "Epoch 57/100\n",
      "139/139 [==============================] - 0s 204us/step - loss: 0.2309 - acc: 0.0072\n",
      "Epoch 58/100\n",
      "139/139 [==============================] - 0s 213us/step - loss: 0.2268 - acc: 0.0072\n",
      "Epoch 59/100\n",
      "139/139 [==============================] - 0s 209us/step - loss: 0.2224 - acc: 0.0072\n",
      "Epoch 60/100\n",
      "139/139 [==============================] - 0s 203us/step - loss: 0.2184 - acc: 0.0072\n",
      "Epoch 61/100\n",
      "139/139 [==============================] - 0s 208us/step - loss: 0.2141 - acc: 0.0072\n",
      "Epoch 62/100\n",
      "139/139 [==============================] - 0s 269us/step - loss: 0.2106 - acc: 0.0072\n",
      "Epoch 63/100\n",
      "139/139 [==============================] - 0s 287us/step - loss: 0.2062 - acc: 0.0072\n",
      "Epoch 64/100\n",
      "139/139 [==============================] - 0s 289us/step - loss: 0.2027 - acc: 0.0072\n",
      "Epoch 65/100\n",
      "139/139 [==============================] - 0s 185us/step - loss: 0.1991 - acc: 0.0072\n",
      "Epoch 66/100\n",
      "139/139 [==============================] - 0s 237us/step - loss: 0.1954 - acc: 0.0072\n",
      "Epoch 67/100\n",
      "139/139 [==============================] - 0s 210us/step - loss: 0.1917 - acc: 0.0072\n",
      "Epoch 68/100\n",
      "139/139 [==============================] - 0s 197us/step - loss: 0.1877 - acc: 0.0072\n",
      "Epoch 69/100\n",
      "139/139 [==============================] - 0s 202us/step - loss: 0.1840 - acc: 0.0072\n",
      "Epoch 70/100\n",
      "139/139 [==============================] - 0s 220us/step - loss: 0.1805 - acc: 0.0072\n",
      "Epoch 71/100\n",
      "139/139 [==============================] - 0s 232us/step - loss: 0.1765 - acc: 0.0072\n",
      "Epoch 72/100\n",
      "139/139 [==============================] - 0s 255us/step - loss: 0.1738 - acc: 0.0072\n",
      "Epoch 73/100\n",
      "139/139 [==============================] - 0s 297us/step - loss: 0.1711 - acc: 0.0072\n",
      "Epoch 74/100\n",
      "139/139 [==============================] - 0s 258us/step - loss: 0.1682 - acc: 0.0072\n",
      "Epoch 75/100\n",
      "139/139 [==============================] - 0s 212us/step - loss: 0.1660 - acc: 0.0072\n",
      "Epoch 76/100\n",
      "139/139 [==============================] - 0s 214us/step - loss: 0.1638 - acc: 0.0072\n",
      "Epoch 77/100\n",
      "139/139 [==============================] - 0s 211us/step - loss: 0.1617 - acc: 0.0072\n",
      "Epoch 78/100\n",
      "139/139 [==============================] - 0s 226us/step - loss: 0.1602 - acc: 0.0072\n",
      "Epoch 79/100\n",
      "139/139 [==============================] - 0s 213us/step - loss: 0.1581 - acc: 0.0072\n",
      "Epoch 80/100\n",
      "139/139 [==============================] - 0s 209us/step - loss: 0.1561 - acc: 0.0072\n",
      "Epoch 81/100\n",
      "139/139 [==============================] - 0s 211us/step - loss: 0.1543 - acc: 0.0072\n",
      "Epoch 82/100\n",
      "139/139 [==============================] - 0s 197us/step - loss: 0.1527 - acc: 0.0072\n",
      "Epoch 83/100\n",
      "139/139 [==============================] - 0s 192us/step - loss: 0.1509 - acc: 0.0072\n",
      "Epoch 84/100\n",
      "139/139 [==============================] - 0s 214us/step - loss: 0.1493 - acc: 0.0072\n",
      "Epoch 85/100\n",
      "139/139 [==============================] - 0s 200us/step - loss: 0.1479 - acc: 0.0072\n",
      "Epoch 86/100\n",
      "139/139 [==============================] - 0s 215us/step - loss: 0.1471 - acc: 0.0072\n",
      "Epoch 87/100\n",
      "139/139 [==============================] - 0s 215us/step - loss: 0.1460 - acc: 0.0072\n",
      "Epoch 88/100\n",
      "139/139 [==============================] - 0s 199us/step - loss: 0.1452 - acc: 0.0072\n",
      "Epoch 89/100\n",
      "139/139 [==============================] - 0s 209us/step - loss: 0.1443 - acc: 0.0072\n",
      "Epoch 90/100\n",
      "139/139 [==============================] - 0s 209us/step - loss: 0.1437 - acc: 0.0072\n",
      "Epoch 91/100\n",
      "139/139 [==============================] - 0s 206us/step - loss: 0.1429 - acc: 0.0072\n",
      "Epoch 92/100\n",
      "139/139 [==============================] - 0s 215us/step - loss: 0.1422 - acc: 0.0072\n",
      "Epoch 93/100\n",
      "139/139 [==============================] - 0s 207us/step - loss: 0.1415 - acc: 0.0072\n",
      "Epoch 94/100\n",
      "139/139 [==============================] - 0s 205us/step - loss: 0.1408 - acc: 0.0072\n",
      "Epoch 95/100\n",
      "139/139 [==============================] - 0s 213us/step - loss: 0.1400 - acc: 0.0072\n",
      "Epoch 96/100\n",
      "139/139 [==============================] - 0s 230us/step - loss: 0.1393 - acc: 0.0072\n",
      "Epoch 97/100\n",
      "139/139 [==============================] - 0s 276us/step - loss: 0.1386 - acc: 0.0072\n",
      "Epoch 98/100\n",
      "139/139 [==============================] - 0s 203us/step - loss: 0.1378 - acc: 0.0072\n",
      "Epoch 99/100\n",
      "139/139 [==============================] - 0s 228us/step - loss: 0.1370 - acc: 0.0072\n",
      "Epoch 100/100\n",
      "139/139 [==============================] - 0s 193us/step - loss: 0.1363 - acc: 0.0072\n"
     ]
    }
   ],
   "source": [
    "history=model.fit(X_train,y_train,epochs=100)"
   ]
  },
  {
   "cell_type": "code",
   "execution_count": 103,
   "metadata": {
    "colab": {
     "base_uri": "https://localhost:8080/",
     "height": 34
    },
    "colab_type": "code",
    "id": "PeAoBUgsZCDY",
    "outputId": "00c06bee-3ee8-411a-eb15-073b54a6556f"
   },
   "outputs": [
    {
     "data": {
      "text/plain": [
       "((91, 1), (91, 5, 1))"
      ]
     },
     "execution_count": 103,
     "metadata": {
      "tags": []
     },
     "output_type": "execute_result"
    }
   ],
   "source": [
    "\n"
   ]
  },
  {
   "cell_type": "code",
   "execution_count": null,
   "metadata": {
    "colab": {},
    "colab_type": "code",
    "id": "ktotHhPzUbWR"
   },
   "outputs": [],
   "source": [
    "results=model.predict(X_test)"
   ]
  },
  {
   "cell_type": "code",
   "execution_count": null,
   "metadata": {
    "colab": {},
    "colab_type": "code",
    "id": "8S7dcgZPlXzu"
   },
   "outputs": [],
   "source": [
    "model.compile(loss='mean_absolute_error',optimizer='SGD',metrics=['accuracy'])"
   ]
  },
  {
   "cell_type": "code",
   "execution_count": 112,
   "metadata": {
    "colab": {
     "base_uri": "https://localhost:8080/",
     "height": 1000
    },
    "colab_type": "code",
    "id": "NhoGfXLqlRtK",
    "outputId": "eadffb30-99c7-44b0-b157-a737d595939f"
   },
   "outputs": [
    {
     "name": "stdout",
     "output_type": "stream",
     "text": [
      "Epoch 1/50\n",
      "139/139 [==============================] - 1s 6ms/step - loss: 0.1355 - acc: 0.0072\n",
      "Epoch 2/50\n",
      "139/139 [==============================] - 0s 180us/step - loss: 0.1348 - acc: 0.0072\n",
      "Epoch 3/50\n",
      "139/139 [==============================] - 0s 184us/step - loss: 0.1337 - acc: 0.0072\n",
      "Epoch 4/50\n",
      "139/139 [==============================] - 0s 178us/step - loss: 0.1327 - acc: 0.0072\n",
      "Epoch 5/50\n",
      "139/139 [==============================] - 0s 190us/step - loss: 0.1319 - acc: 0.0144\n",
      "Epoch 6/50\n",
      "139/139 [==============================] - 0s 192us/step - loss: 0.1307 - acc: 0.0144\n",
      "Epoch 7/50\n",
      "139/139 [==============================] - 0s 210us/step - loss: 0.1298 - acc: 0.0144\n",
      "Epoch 8/50\n",
      "139/139 [==============================] - 0s 219us/step - loss: 0.1288 - acc: 0.0144\n",
      "Epoch 9/50\n",
      "139/139 [==============================] - 0s 233us/step - loss: 0.1278 - acc: 0.0144\n",
      "Epoch 10/50\n",
      "139/139 [==============================] - 0s 198us/step - loss: 0.1268 - acc: 0.0144\n",
      "Epoch 11/50\n",
      "139/139 [==============================] - 0s 198us/step - loss: 0.1258 - acc: 0.0144\n",
      "Epoch 12/50\n",
      "139/139 [==============================] - 0s 199us/step - loss: 0.1249 - acc: 0.0144\n",
      "Epoch 13/50\n",
      "139/139 [==============================] - 0s 196us/step - loss: 0.1239 - acc: 0.0144\n",
      "Epoch 14/50\n",
      "139/139 [==============================] - 0s 222us/step - loss: 0.1229 - acc: 0.0144\n",
      "Epoch 15/50\n",
      "139/139 [==============================] - 0s 185us/step - loss: 0.1219 - acc: 0.0144\n",
      "Epoch 16/50\n",
      "139/139 [==============================] - 0s 191us/step - loss: 0.1211 - acc: 0.0144\n",
      "Epoch 17/50\n",
      "139/139 [==============================] - 0s 197us/step - loss: 0.1202 - acc: 0.0144\n",
      "Epoch 18/50\n",
      "139/139 [==============================] - 0s 209us/step - loss: 0.1194 - acc: 0.0144\n",
      "Epoch 19/50\n",
      "139/139 [==============================] - 0s 179us/step - loss: 0.1186 - acc: 0.0144\n",
      "Epoch 20/50\n",
      "139/139 [==============================] - 0s 185us/step - loss: 0.1180 - acc: 0.0144\n",
      "Epoch 21/50\n",
      "139/139 [==============================] - 0s 197us/step - loss: 0.1169 - acc: 0.0144\n",
      "Epoch 22/50\n",
      "139/139 [==============================] - 0s 198us/step - loss: 0.1161 - acc: 0.0144\n",
      "Epoch 23/50\n",
      "139/139 [==============================] - 0s 246us/step - loss: 0.1154 - acc: 0.0144\n",
      "Epoch 24/50\n",
      "139/139 [==============================] - 0s 215us/step - loss: 0.1146 - acc: 0.0144\n",
      "Epoch 25/50\n",
      "139/139 [==============================] - 0s 230us/step - loss: 0.1140 - acc: 0.0144\n",
      "Epoch 26/50\n",
      "139/139 [==============================] - 0s 216us/step - loss: 0.1132 - acc: 0.0144\n",
      "Epoch 27/50\n",
      "139/139 [==============================] - 0s 278us/step - loss: 0.1124 - acc: 0.0144\n",
      "Epoch 28/50\n",
      "139/139 [==============================] - 0s 251us/step - loss: 0.1117 - acc: 0.0144\n",
      "Epoch 29/50\n",
      "139/139 [==============================] - 0s 210us/step - loss: 0.1110 - acc: 0.0144\n",
      "Epoch 30/50\n",
      "139/139 [==============================] - 0s 210us/step - loss: 0.1103 - acc: 0.0144\n",
      "Epoch 31/50\n",
      "139/139 [==============================] - 0s 206us/step - loss: 0.1094 - acc: 0.0144\n",
      "Epoch 32/50\n",
      "139/139 [==============================] - 0s 193us/step - loss: 0.1087 - acc: 0.0144\n",
      "Epoch 33/50\n",
      "139/139 [==============================] - 0s 249us/step - loss: 0.1081 - acc: 0.0144\n",
      "Epoch 34/50\n",
      "139/139 [==============================] - 0s 245us/step - loss: 0.1073 - acc: 0.0144\n",
      "Epoch 35/50\n",
      "139/139 [==============================] - 0s 231us/step - loss: 0.1066 - acc: 0.0144\n",
      "Epoch 36/50\n",
      "139/139 [==============================] - 0s 260us/step - loss: 0.1058 - acc: 0.0144\n",
      "Epoch 37/50\n",
      "139/139 [==============================] - 0s 218us/step - loss: 0.1052 - acc: 0.0144\n",
      "Epoch 38/50\n",
      "139/139 [==============================] - 0s 206us/step - loss: 0.1044 - acc: 0.0144\n",
      "Epoch 39/50\n",
      "139/139 [==============================] - 0s 230us/step - loss: 0.1039 - acc: 0.0144\n",
      "Epoch 40/50\n",
      "139/139 [==============================] - 0s 232us/step - loss: 0.1032 - acc: 0.0144\n",
      "Epoch 41/50\n",
      "139/139 [==============================] - 0s 236us/step - loss: 0.1024 - acc: 0.0144\n",
      "Epoch 42/50\n",
      "139/139 [==============================] - 0s 251us/step - loss: 0.1017 - acc: 0.0144\n",
      "Epoch 43/50\n",
      "139/139 [==============================] - 0s 230us/step - loss: 0.1012 - acc: 0.0144\n",
      "Epoch 44/50\n",
      "139/139 [==============================] - 0s 198us/step - loss: 0.1004 - acc: 0.0144\n",
      "Epoch 45/50\n",
      "139/139 [==============================] - 0s 214us/step - loss: 0.0998 - acc: 0.0144\n",
      "Epoch 46/50\n",
      "139/139 [==============================] - 0s 206us/step - loss: 0.0992 - acc: 0.0144\n",
      "Epoch 47/50\n",
      "139/139 [==============================] - 0s 313us/step - loss: 0.0985 - acc: 0.0144\n",
      "Epoch 48/50\n",
      "139/139 [==============================] - 0s 220us/step - loss: 0.0979 - acc: 0.0144\n",
      "Epoch 49/50\n",
      "139/139 [==============================] - 0s 243us/step - loss: 0.0973 - acc: 0.0144\n",
      "Epoch 50/50\n",
      "139/139 [==============================] - 0s 234us/step - loss: 0.0966 - acc: 0.0144\n"
     ]
    }
   ],
   "source": [
    "history2=model.fit(X_train,y_train,epochs=50)"
   ]
  },
  {
   "cell_type": "code",
   "execution_count": 118,
   "metadata": {
    "colab": {
     "base_uri": "https://localhost:8080/",
     "height": 269
    },
    "colab_type": "code",
    "id": "ZsGbgpw7Y02h",
    "outputId": "7f544771-2be4-4591-980b-0fa406b8b3cc"
   },
   "outputs": [
    {
     "data": {
      "image/png": "[encoded data removed]",
      "text/plain": [
       "<Figure size 432x288 with 1 Axes>"
      ]
     },
     "metadata": {
      "tags": []
     },
     "output_type": "display_data"
    }
   ],
   "source": [
    "plt.plot(history.history['loss'])\n",
    "plt.show()"
   ]
  },
  {
   "cell_type": "code",
   "execution_count": null,
   "metadata": {
    "colab": {},
    "colab_type": "code",
    "id": "Afw8MotgY-pF"
   },
   "outputs": [],
   "source": []
  }
 ],
 "metadata": {
  "colab": {
   "collapsed_sections": [],
   "name": "LSTM_Assignment.ipynb",
   "provenance": [],
   "version": "0.3.2"
  },
  "kernelspec": {
   "display_name": "Python 3",
   "language": "python",
   "name": "python3"
  },
  "language_info": {
   "codemirror_mode": {
    "name": "ipython",
    "version": 3
   },
   "file_extension": ".py",
   "mimetype": "text/x-python",
   "name": "python",
   "nbconvert_exporter": "python",
   "pygments_lexer": "ipython3",
   "version": "3.6.8"
  }
 },
 "nbformat": 4,
 "nbformat_minor": 4
}
